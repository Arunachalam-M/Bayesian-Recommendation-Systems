{
 "cells": [
  {
   "cell_type": "code",
   "execution_count": 714,
   "metadata": {},
   "outputs": [],
   "source": [
    "import pandas as pd\n",
    "import numpy as np\n",
    "from scipy.sparse import csr_matrix\n",
    "import time"
   ]
  },
  {
   "cell_type": "code",
   "execution_count": 715,
   "metadata": {},
   "outputs": [],
   "source": [
    "ratings = pd.read_csv('data/ratings_small.csv')"
   ]
  },
  {
   "cell_type": "code",
   "execution_count": 716,
   "metadata": {},
   "outputs": [],
   "source": [
    "movie_details = pd.read_csv('data/movies_metadata.csv')"
   ]
  },
  {
   "cell_type": "code",
   "execution_count": 717,
   "metadata": {},
   "outputs": [
    {
     "data": {
      "text/plain": [
       "Index(['adult', 'belongs_to_collection', 'budget', 'genres', 'homepage', 'id',\n",
       "       'imdb_id', 'original_language', 'original_title', 'overview',\n",
       "       'popularity', 'poster_path', 'production_companies',\n",
       "       'production_countries', 'release_date', 'revenue', 'runtime',\n",
       "       'spoken_languages', 'status', 'tagline', 'title', 'video',\n",
       "       'vote_average', 'vote_count'],\n",
       "      dtype='object')"
      ]
     },
     "execution_count": 717,
     "metadata": {},
     "output_type": "execute_result"
    }
   ],
   "source": [
    "movie_details.columns"
   ]
  },
  {
   "cell_type": "code",
   "execution_count": 718,
   "metadata": {},
   "outputs": [],
   "source": [
    "movie_details = movie_details[['id','title','budget','popularity','vote_average', 'vote_count']]"
   ]
  },
  {
   "cell_type": "code",
   "execution_count": 719,
   "metadata": {},
   "outputs": [
    {
     "data": {
      "text/html": [
       "<div>\n",
       "<style scoped>\n",
       "    .dataframe tbody tr th:only-of-type {\n",
       "        vertical-align: middle;\n",
       "    }\n",
       "\n",
       "    .dataframe tbody tr th {\n",
       "        vertical-align: top;\n",
       "    }\n",
       "\n",
       "    .dataframe thead th {\n",
       "        text-align: right;\n",
       "    }\n",
       "</style>\n",
       "<table border=\"1\" class=\"dataframe\">\n",
       "  <thead>\n",
       "    <tr style=\"text-align: right;\">\n",
       "      <th></th>\n",
       "      <th>id</th>\n",
       "      <th>title</th>\n",
       "      <th>budget</th>\n",
       "      <th>popularity</th>\n",
       "      <th>vote_average</th>\n",
       "      <th>vote_count</th>\n",
       "    </tr>\n",
       "  </thead>\n",
       "  <tbody>\n",
       "    <tr>\n",
       "      <th>0</th>\n",
       "      <td>862</td>\n",
       "      <td>Toy Story</td>\n",
       "      <td>30000000</td>\n",
       "      <td>21.9469</td>\n",
       "      <td>7.7</td>\n",
       "      <td>5415.0</td>\n",
       "    </tr>\n",
       "    <tr>\n",
       "      <th>1</th>\n",
       "      <td>8844</td>\n",
       "      <td>Jumanji</td>\n",
       "      <td>65000000</td>\n",
       "      <td>17.0155</td>\n",
       "      <td>6.9</td>\n",
       "      <td>2413.0</td>\n",
       "    </tr>\n",
       "    <tr>\n",
       "      <th>2</th>\n",
       "      <td>15602</td>\n",
       "      <td>Grumpier Old Men</td>\n",
       "      <td>0</td>\n",
       "      <td>11.7129</td>\n",
       "      <td>6.5</td>\n",
       "      <td>92.0</td>\n",
       "    </tr>\n",
       "    <tr>\n",
       "      <th>3</th>\n",
       "      <td>31357</td>\n",
       "      <td>Waiting to Exhale</td>\n",
       "      <td>16000000</td>\n",
       "      <td>3.85949</td>\n",
       "      <td>6.1</td>\n",
       "      <td>34.0</td>\n",
       "    </tr>\n",
       "    <tr>\n",
       "      <th>4</th>\n",
       "      <td>11862</td>\n",
       "      <td>Father of the Bride Part II</td>\n",
       "      <td>0</td>\n",
       "      <td>8.38752</td>\n",
       "      <td>5.7</td>\n",
       "      <td>173.0</td>\n",
       "    </tr>\n",
       "    <tr>\n",
       "      <th>5</th>\n",
       "      <td>949</td>\n",
       "      <td>Heat</td>\n",
       "      <td>60000000</td>\n",
       "      <td>17.9249</td>\n",
       "      <td>7.7</td>\n",
       "      <td>1886.0</td>\n",
       "    </tr>\n",
       "    <tr>\n",
       "      <th>6</th>\n",
       "      <td>11860</td>\n",
       "      <td>Sabrina</td>\n",
       "      <td>58000000</td>\n",
       "      <td>6.67728</td>\n",
       "      <td>6.2</td>\n",
       "      <td>141.0</td>\n",
       "    </tr>\n",
       "    <tr>\n",
       "      <th>7</th>\n",
       "      <td>45325</td>\n",
       "      <td>Tom and Huck</td>\n",
       "      <td>0</td>\n",
       "      <td>2.56116</td>\n",
       "      <td>5.4</td>\n",
       "      <td>45.0</td>\n",
       "    </tr>\n",
       "    <tr>\n",
       "      <th>8</th>\n",
       "      <td>9091</td>\n",
       "      <td>Sudden Death</td>\n",
       "      <td>35000000</td>\n",
       "      <td>5.23158</td>\n",
       "      <td>5.5</td>\n",
       "      <td>174.0</td>\n",
       "    </tr>\n",
       "    <tr>\n",
       "      <th>9</th>\n",
       "      <td>710</td>\n",
       "      <td>GoldenEye</td>\n",
       "      <td>58000000</td>\n",
       "      <td>14.686</td>\n",
       "      <td>6.6</td>\n",
       "      <td>1194.0</td>\n",
       "    </tr>\n",
       "  </tbody>\n",
       "</table>\n",
       "</div>"
      ],
      "text/plain": [
       "      id                        title    budget popularity  vote_average  \\\n",
       "0    862                    Toy Story  30000000    21.9469           7.7   \n",
       "1   8844                      Jumanji  65000000    17.0155           6.9   \n",
       "2  15602             Grumpier Old Men         0    11.7129           6.5   \n",
       "3  31357            Waiting to Exhale  16000000    3.85949           6.1   \n",
       "4  11862  Father of the Bride Part II         0    8.38752           5.7   \n",
       "5    949                         Heat  60000000    17.9249           7.7   \n",
       "6  11860                      Sabrina  58000000    6.67728           6.2   \n",
       "7  45325                 Tom and Huck         0    2.56116           5.4   \n",
       "8   9091                 Sudden Death  35000000    5.23158           5.5   \n",
       "9    710                    GoldenEye  58000000     14.686           6.6   \n",
       "\n",
       "   vote_count  \n",
       "0      5415.0  \n",
       "1      2413.0  \n",
       "2        92.0  \n",
       "3        34.0  \n",
       "4       173.0  \n",
       "5      1886.0  \n",
       "6       141.0  \n",
       "7        45.0  \n",
       "8       174.0  \n",
       "9      1194.0  "
      ]
     },
     "execution_count": 719,
     "metadata": {},
     "output_type": "execute_result"
    }
   ],
   "source": [
    "movie_details.head(10)"
   ]
  },
  {
   "cell_type": "code",
   "execution_count": 720,
   "metadata": {},
   "outputs": [
    {
     "data": {
      "text/plain": [
       "Index(['userId', 'movieId', 'rating', 'timestamp'], dtype='object')"
      ]
     },
     "execution_count": 720,
     "metadata": {},
     "output_type": "execute_result"
    }
   ],
   "source": [
    "ratings.columns"
   ]
  },
  {
   "cell_type": "code",
   "execution_count": 721,
   "metadata": {},
   "outputs": [],
   "source": [
    "ratings = ratings[['userId', 'movieId', 'rating']]"
   ]
  },
  {
   "cell_type": "code",
   "execution_count": 722,
   "metadata": {},
   "outputs": [],
   "source": [
    "ratings_ij = np.array(ratings['rating'])"
   ]
  },
  {
   "cell_type": "code",
   "execution_count": 723,
   "metadata": {},
   "outputs": [],
   "source": [
    "users = np.array(ratings['userId'])\n",
    "users = np.unique(users)\n",
    "movies = np.array(ratings['movieId'])\n",
    "movies = np.unique(movies)\n",
    "ratings_ij = np.array(ratings['rating'])"
   ]
  },
  {
   "cell_type": "code",
   "execution_count": 724,
   "metadata": {},
   "outputs": [
    {
     "name": "stdout",
     "output_type": "stream",
     "text": [
      "Users: 671\n",
      "Movies: 9066\n"
     ]
    }
   ],
   "source": [
    "m = len(users)\n",
    "print(\"Users:\", m)\n",
    "\n",
    "n = len(movies)\n",
    "print(\"Movies:\", n)"
   ]
  },
  {
   "cell_type": "code",
   "execution_count": 725,
   "metadata": {},
   "outputs": [],
   "source": [
    "movie_map = {}\n",
    "\n",
    "for i in range(n):\n",
    "    movie_map[movies[i]] = i+1"
   ]
  },
  {
   "cell_type": "code",
   "execution_count": 726,
   "metadata": {},
   "outputs": [],
   "source": [
    "ratings['movieId'] = ratings.apply(lambda x: movie_map[x['movieId']], axis = 1)"
   ]
  },
  {
   "cell_type": "code",
   "execution_count": 778,
   "metadata": {},
   "outputs": [],
   "source": [
    "#Hyperparmeters\n",
    "a = 2\n",
    "b = 1\n",
    "au = 2\n",
    "bu = 1\n",
    "av = 2\n",
    "bv = 1\n",
    "\n",
    "#Dimensions\n",
    "k = 10"
   ]
  },
  {
   "cell_type": "code",
   "execution_count": 728,
   "metadata": {},
   "outputs": [],
   "source": [
    "pairs_ij = ratings.apply(lambda x: (int(x['userId']-1),int(x['movieId']-1)), axis = 1)\n",
    "pairs_ij = np.array(pairs_ij)"
   ]
  },
  {
   "cell_type": "code",
   "execution_count": 729,
   "metadata": {},
   "outputs": [
    {
     "data": {
      "text/html": [
       "<div>\n",
       "<style scoped>\n",
       "    .dataframe tbody tr th:only-of-type {\n",
       "        vertical-align: middle;\n",
       "    }\n",
       "\n",
       "    .dataframe tbody tr th {\n",
       "        vertical-align: top;\n",
       "    }\n",
       "\n",
       "    .dataframe thead th {\n",
       "        text-align: right;\n",
       "    }\n",
       "</style>\n",
       "<table border=\"1\" class=\"dataframe\">\n",
       "  <thead>\n",
       "    <tr style=\"text-align: right;\">\n",
       "      <th></th>\n",
       "      <th>userId</th>\n",
       "      <th>movieId</th>\n",
       "      <th>rating</th>\n",
       "    </tr>\n",
       "  </thead>\n",
       "  <tbody>\n",
       "    <tr>\n",
       "      <th>0</th>\n",
       "      <td>1</td>\n",
       "      <td>31</td>\n",
       "      <td>2.5</td>\n",
       "    </tr>\n",
       "    <tr>\n",
       "      <th>1</th>\n",
       "      <td>1</td>\n",
       "      <td>834</td>\n",
       "      <td>3.0</td>\n",
       "    </tr>\n",
       "    <tr>\n",
       "      <th>2</th>\n",
       "      <td>1</td>\n",
       "      <td>860</td>\n",
       "      <td>3.0</td>\n",
       "    </tr>\n",
       "    <tr>\n",
       "      <th>3</th>\n",
       "      <td>1</td>\n",
       "      <td>907</td>\n",
       "      <td>2.0</td>\n",
       "    </tr>\n",
       "    <tr>\n",
       "      <th>4</th>\n",
       "      <td>1</td>\n",
       "      <td>932</td>\n",
       "      <td>4.0</td>\n",
       "    </tr>\n",
       "  </tbody>\n",
       "</table>\n",
       "</div>"
      ],
      "text/plain": [
       "   userId  movieId  rating\n",
       "0       1       31     2.5\n",
       "1       1      834     3.0\n",
       "2       1      860     3.0\n",
       "3       1      907     2.0\n",
       "4       1      932     4.0"
      ]
     },
     "execution_count": 729,
     "metadata": {},
     "output_type": "execute_result"
    }
   ],
   "source": [
    "ratings.head()"
   ]
  },
  {
   "cell_type": "code",
   "execution_count": 730,
   "metadata": {},
   "outputs": [],
   "source": [
    "U0 = np.random.multivariate_normal([0.5]*k, 1*np.eye(k),m)\n",
    "V0 = np.random.multivariate_normal([0.5]*k, 1*np.eye(k),n)\n",
    "U = U0\n",
    "V = V0"
   ]
  },
  {
   "cell_type": "code",
   "execution_count": 731,
   "metadata": {},
   "outputs": [],
   "source": [
    "UV = np.dot(U0, np.transpose(V0))\n",
    "U2 = np.diagonal(np.dot(U0, np.transpose(U0)))\n",
    "V2 = np.diagonal(np.dot(V0, np.transpose(V0)))"
   ]
  },
  {
   "cell_type": "code",
   "execution_count": 732,
   "metadata": {},
   "outputs": [],
   "source": [
    "uv_ij = np.array([UV[pairs_ij[i]] for i in range(len(pairs_ij))])\n",
    "uv_vals = (ratings_ij - uv_ij)**2"
   ]
  },
  {
   "cell_type": "code",
   "execution_count": 733,
   "metadata": {},
   "outputs": [],
   "source": [
    "lambda_ij = np.random.gamma(a + 0.5, (1/b) + uv_vals/2)"
   ]
  },
  {
   "cell_type": "code",
   "execution_count": 734,
   "metadata": {},
   "outputs": [],
   "source": [
    "lambda_ui = np.random.gamma(au + 0.5, (1/bu) + U2)\n",
    "lambda_vj = np.random.gamma(av + 0.5, (1/bv) + V2)"
   ]
  },
  {
   "cell_type": "code",
   "execution_count": 735,
   "metadata": {},
   "outputs": [],
   "source": [
    "c = np.reshape(U0,(m,k,1))\n",
    "d = np.reshape(U0,(m,1,k))\n",
    "U_covar = np.multiply(c,d)"
   ]
  },
  {
   "cell_type": "code",
   "execution_count": 736,
   "metadata": {},
   "outputs": [],
   "source": [
    "c = np.reshape(V0,(n,k,1))\n",
    "d = np.reshape(V0,(n,1,k))\n",
    "V_covar = np.multiply(c,d)"
   ]
  },
  {
   "cell_type": "code",
   "execution_count": 737,
   "metadata": {},
   "outputs": [],
   "source": [
    "mat = csr_matrix((lambda_ij, (np.array(ratings['userId']-1), np.array(ratings['movieId']-1))), shape=(m, n)) "
   ]
  },
  {
   "cell_type": "code",
   "execution_count": 738,
   "metadata": {},
   "outputs": [],
   "source": [
    "Ui1 = mat.dot(np.reshape(V_covar,(n,k*k)))\n",
    "Ui1 = Ui1.reshape(m,k,k)\n",
    "\n",
    "Vj1 = mat.transpose().dot(np.reshape(U_covar,(m,k*k)))\n",
    "Vj1 = Vj1.reshape(n,k,k)"
   ]
  },
  {
   "cell_type": "code",
   "execution_count": 739,
   "metadata": {},
   "outputs": [],
   "source": [
    "Ui = Ui1 + np.array([i*np.eye(k) for i in lambda_ui])\n",
    "Vj = Vj1 + np.array([i*np.eye(k) for i in lambda_vj])"
   ]
  },
  {
   "cell_type": "code",
   "execution_count": 740,
   "metadata": {},
   "outputs": [],
   "source": [
    "Sigma_Ui = np.array([np.linalg.inv(i) for i in Ui])\n",
    "Sigma_Vj = np.array([np.linalg.inv(j) for j in Vj])"
   ]
  },
  {
   "cell_type": "code",
   "execution_count": 741,
   "metadata": {},
   "outputs": [],
   "source": [
    "val_ij = np.multiply(ratings_ij, lambda_ij)\n",
    "new_mat = csr_matrix((val_ij, (np.array(ratings['userId']-1), np.array(ratings['movieId']-1))), shape=(m, n)) "
   ]
  },
  {
   "cell_type": "code",
   "execution_count": 742,
   "metadata": {},
   "outputs": [],
   "source": [
    "ui2 = new_mat.dot(V0)\n",
    "vj2 = new_mat.transpose().dot(U0)"
   ]
  },
  {
   "cell_type": "code",
   "execution_count": 743,
   "metadata": {},
   "outputs": [],
   "source": [
    "mu_u = np.array([np.dot(Sigma_Ui[i],ui2[i]) for i in range(m)])\n",
    "mu_v = np.array([np.dot(Sigma_Vj[i],vj2[i]) for i in range(n)])"
   ]
  },
  {
   "cell_type": "code",
   "execution_count": 744,
   "metadata": {},
   "outputs": [
    {
     "name": "stderr",
     "output_type": "stream",
     "text": [
      "C:\\ProgramData\\Anaconda3\\lib\\site-packages\\ipykernel_launcher.py:2: RuntimeWarning: covariance is not positive-semidefinite.\n",
      "  \n"
     ]
    }
   ],
   "source": [
    "U = np.array([np.random.multivariate_normal(mu_u[i],Sigma_Ui[i]) for i in range(m)])\n",
    "V = np.array([np.random.multivariate_normal(mu_v[j],Sigma_Vj[j]) for j in range(n)])"
   ]
  },
  {
   "cell_type": "code",
   "execution_count": 745,
   "metadata": {},
   "outputs": [],
   "source": [
    "U_list = []\n",
    "V_list = []\n",
    "iterations = 100"
   ]
  },
  {
   "cell_type": "code",
   "execution_count": 746,
   "metadata": {},
   "outputs": [
    {
     "name": "stderr",
     "output_type": "stream",
     "text": [
      "C:\\ProgramData\\Anaconda3\\lib\\site-packages\\ipykernel_launcher.py:33: RuntimeWarning: covariance is not positive-semidefinite.\n",
      "C:\\ProgramData\\Anaconda3\\lib\\site-packages\\ipykernel_launcher.py:32: RuntimeWarning: covariance is not positive-semidefinite.\n"
     ]
    },
    {
     "name": "stdout",
     "output_type": "stream",
     "text": [
      "182.37178373336792\n"
     ]
    }
   ],
   "source": [
    "start = time.time()\n",
    "for i in range(iterations):\n",
    "    UV = np.dot(U, np.transpose(V))\n",
    "    U2 = np.diagonal(np.dot(U, np.transpose(U)))\n",
    "    V2 = np.diagonal(np.dot(V, np.transpose(V)))\n",
    "    uv_ij = np.array([UV[pairs_ij[i]] for i in range(len(pairs_ij))])\n",
    "    uv_vals = (ratings_ij - uv_ij)**2\n",
    "    lambda_ij = np.random.gamma(a + 0.5, (1/b) + uv_vals/2)\n",
    "    lambda_ui = np.random.gamma(au + 0.5, (1/bu) + U2)\n",
    "    lambda_vj = np.random.gamma(av + 0.5, (1/bv) + V2)\n",
    "    c = np.reshape(U,(m,k,1))\n",
    "    d = np.reshape(U,(m,1,k))\n",
    "    U_covar = np.multiply(c,d)\n",
    "    c = np.reshape(V,(n,k,1))\n",
    "    d = np.reshape(V,(n,1,k))\n",
    "    V_covar = np.multiply(c,d)\n",
    "    mat = csr_matrix((lambda_ij, (np.array(ratings['userId']-1), np.array(ratings['movieId']-1))), shape=(m, n)) \n",
    "    Ui1 = mat.dot(np.reshape(V_covar,(n,k*k)))\n",
    "    Ui1 = Ui1.reshape(m,k,k)\n",
    "    Vj1 = mat.transpose().dot(np.reshape(U_covar,(m,k*k)))\n",
    "    Vj1 = Vj1.reshape(n,k,k)\n",
    "    Ui = Ui1 + np.array([i*np.eye(k) for i in lambda_ui])\n",
    "    Vj = Vj1 + np.array([i*np.eye(k) for i in lambda_vj])\n",
    "    Sigma_Ui = np.array([np.linalg.inv(i) for i in Ui])\n",
    "    Sigma_Vj = np.array([np.linalg.inv(j) for j in Vj])\n",
    "    val_ij = np.multiply(ratings_ij, lambda_ij)\n",
    "    new_mat = csr_matrix((val_ij, (np.array(ratings['userId']-1), np.array(ratings['movieId']-1))), shape=(m, n)) \n",
    "    ui2 = new_mat.dot(V)\n",
    "    vj2 = new_mat.transpose().dot(U)\n",
    "    mu_u = np.array([np.dot(Sigma_Ui[i],ui2[i]) for i in range(m)])\n",
    "    mu_v = np.array([np.dot(Sigma_Vj[i],vj2[i]) for i in range(n)])\n",
    "    U = np.array([np.random.multivariate_normal(mu_u[i],Sigma_Ui[i]) for i in range(m)])\n",
    "    V = np.array([np.random.multivariate_normal(mu_v[j],Sigma_Vj[j]) for j in range(n)])\n",
    "    U_list.append(U)\n",
    "    V_list.append(V)\n",
    "print(time.time() - start)"
   ]
  },
  {
   "cell_type": "code",
   "execution_count": 747,
   "metadata": {},
   "outputs": [],
   "source": [
    "drop = 10\n",
    "final_Us = np.array(U_list[drop:])\n",
    "final_Vs = np.array(V_list[drop:])"
   ]
  },
  {
   "cell_type": "code",
   "execution_count": 748,
   "metadata": {},
   "outputs": [],
   "source": [
    "mean_U = np.mean(final_Us, axis = 0)\n",
    "mean_V = np.mean(final_Vs, axis = 0)"
   ]
  },
  {
   "cell_type": "code",
   "execution_count": 749,
   "metadata": {},
   "outputs": [],
   "source": [
    "rating_mat = np.array([np.dot(final_Us[i],np.transpose(final_Vs[i])) for i in range(iterations-drop)])"
   ]
  },
  {
   "cell_type": "code",
   "execution_count": 750,
   "metadata": {},
   "outputs": [],
   "source": [
    "predicted_ratings = np.mean(rating_mat, axis = 0)"
   ]
  },
  {
   "cell_type": "code",
   "execution_count": 751,
   "metadata": {},
   "outputs": [
    {
     "name": "stderr",
     "output_type": "stream",
     "text": [
      "C:\\ProgramData\\Anaconda3\\lib\\site-packages\\ipykernel_launcher.py:1: RuntimeWarning: overflow encountered in exp\n",
      "  \"\"\"Entry point for launching an IPython kernel.\n",
      "C:\\ProgramData\\Anaconda3\\lib\\site-packages\\ipykernel_launcher.py:1: RuntimeWarning: invalid value encountered in true_divide\n",
      "  \"\"\"Entry point for launching an IPython kernel.\n"
     ]
    }
   ],
   "source": [
    "ratings_pred = np.exp(predicted_ratings)/(1+np.exp(predicted_ratings))"
   ]
  },
  {
   "cell_type": "code",
   "execution_count": 776,
   "metadata": {},
   "outputs": [
    {
     "data": {
      "text/plain": [
       "4.9051933258067795"
      ]
     },
     "execution_count": 776,
     "metadata": {},
     "output_type": "execute_result"
    }
   ],
   "source": [
    "5*ratings_pred[0, 2380]"
   ]
  },
  {
   "cell_type": "code",
   "execution_count": 777,
   "metadata": {},
   "outputs": [
    {
     "data": {
      "text/plain": [
       "3.9462099755857536"
      ]
     },
     "execution_count": 777,
     "metadata": {},
     "output_type": "execute_result"
    }
   ],
   "source": [
    "predicted_ratings[0,2380]"
   ]
  },
  {
   "cell_type": "code",
   "execution_count": 754,
   "metadata": {},
   "outputs": [
    {
     "data": {
      "text/plain": [
       "array([(0, 30), (0, 833), (0, 859), (0, 906), (0, 931), (0, 1017),\n",
       "       (0, 1041), (0, 1047), (0, 1083), (0, 1087), (0, 1111), (0, 1140),\n",
       "       (0, 1515), (0, 1665), (0, 1708), (0, 1743), (0, 1815), (0, 1962),\n",
       "       (0, 2380), (0, 2925), (1, 9), (1, 16), (1, 37), (1, 45), (1, 48),\n",
       "       (1, 49), (1, 58), (1, 100), (1, 123), (1, 129)], dtype=object)"
      ]
     },
     "execution_count": 754,
     "metadata": {},
     "output_type": "execute_result"
    }
   ],
   "source": [
    "pairs_ij[:30]"
   ]
  },
  {
   "cell_type": "code",
   "execution_count": 755,
   "metadata": {},
   "outputs": [
    {
     "data": {
      "text/html": [
       "<div>\n",
       "<style scoped>\n",
       "    .dataframe tbody tr th:only-of-type {\n",
       "        vertical-align: middle;\n",
       "    }\n",
       "\n",
       "    .dataframe tbody tr th {\n",
       "        vertical-align: top;\n",
       "    }\n",
       "\n",
       "    .dataframe thead th {\n",
       "        text-align: right;\n",
       "    }\n",
       "</style>\n",
       "<table border=\"1\" class=\"dataframe\">\n",
       "  <thead>\n",
       "    <tr style=\"text-align: right;\">\n",
       "      <th></th>\n",
       "      <th>userId</th>\n",
       "      <th>movieId</th>\n",
       "      <th>rating</th>\n",
       "    </tr>\n",
       "  </thead>\n",
       "  <tbody>\n",
       "    <tr>\n",
       "      <th>0</th>\n",
       "      <td>1</td>\n",
       "      <td>31</td>\n",
       "      <td>2.5</td>\n",
       "    </tr>\n",
       "    <tr>\n",
       "      <th>1</th>\n",
       "      <td>1</td>\n",
       "      <td>834</td>\n",
       "      <td>3.0</td>\n",
       "    </tr>\n",
       "    <tr>\n",
       "      <th>2</th>\n",
       "      <td>1</td>\n",
       "      <td>860</td>\n",
       "      <td>3.0</td>\n",
       "    </tr>\n",
       "    <tr>\n",
       "      <th>3</th>\n",
       "      <td>1</td>\n",
       "      <td>907</td>\n",
       "      <td>2.0</td>\n",
       "    </tr>\n",
       "    <tr>\n",
       "      <th>4</th>\n",
       "      <td>1</td>\n",
       "      <td>932</td>\n",
       "      <td>4.0</td>\n",
       "    </tr>\n",
       "    <tr>\n",
       "      <th>5</th>\n",
       "      <td>1</td>\n",
       "      <td>1018</td>\n",
       "      <td>2.0</td>\n",
       "    </tr>\n",
       "    <tr>\n",
       "      <th>6</th>\n",
       "      <td>1</td>\n",
       "      <td>1042</td>\n",
       "      <td>2.0</td>\n",
       "    </tr>\n",
       "    <tr>\n",
       "      <th>7</th>\n",
       "      <td>1</td>\n",
       "      <td>1048</td>\n",
       "      <td>2.0</td>\n",
       "    </tr>\n",
       "    <tr>\n",
       "      <th>8</th>\n",
       "      <td>1</td>\n",
       "      <td>1084</td>\n",
       "      <td>3.5</td>\n",
       "    </tr>\n",
       "    <tr>\n",
       "      <th>9</th>\n",
       "      <td>1</td>\n",
       "      <td>1088</td>\n",
       "      <td>2.0</td>\n",
       "    </tr>\n",
       "    <tr>\n",
       "      <th>10</th>\n",
       "      <td>1</td>\n",
       "      <td>1112</td>\n",
       "      <td>2.5</td>\n",
       "    </tr>\n",
       "    <tr>\n",
       "      <th>11</th>\n",
       "      <td>1</td>\n",
       "      <td>1141</td>\n",
       "      <td>1.0</td>\n",
       "    </tr>\n",
       "    <tr>\n",
       "      <th>12</th>\n",
       "      <td>1</td>\n",
       "      <td>1516</td>\n",
       "      <td>4.0</td>\n",
       "    </tr>\n",
       "    <tr>\n",
       "      <th>13</th>\n",
       "      <td>1</td>\n",
       "      <td>1666</td>\n",
       "      <td>4.0</td>\n",
       "    </tr>\n",
       "    <tr>\n",
       "      <th>14</th>\n",
       "      <td>1</td>\n",
       "      <td>1709</td>\n",
       "      <td>3.0</td>\n",
       "    </tr>\n",
       "    <tr>\n",
       "      <th>15</th>\n",
       "      <td>1</td>\n",
       "      <td>1744</td>\n",
       "      <td>2.0</td>\n",
       "    </tr>\n",
       "    <tr>\n",
       "      <th>16</th>\n",
       "      <td>1</td>\n",
       "      <td>1816</td>\n",
       "      <td>2.0</td>\n",
       "    </tr>\n",
       "    <tr>\n",
       "      <th>17</th>\n",
       "      <td>1</td>\n",
       "      <td>1963</td>\n",
       "      <td>2.5</td>\n",
       "    </tr>\n",
       "    <tr>\n",
       "      <th>18</th>\n",
       "      <td>1</td>\n",
       "      <td>2381</td>\n",
       "      <td>1.0</td>\n",
       "    </tr>\n",
       "    <tr>\n",
       "      <th>19</th>\n",
       "      <td>1</td>\n",
       "      <td>2926</td>\n",
       "      <td>3.0</td>\n",
       "    </tr>\n",
       "  </tbody>\n",
       "</table>\n",
       "</div>"
      ],
      "text/plain": [
       "    userId  movieId  rating\n",
       "0        1       31     2.5\n",
       "1        1      834     3.0\n",
       "2        1      860     3.0\n",
       "3        1      907     2.0\n",
       "4        1      932     4.0\n",
       "5        1     1018     2.0\n",
       "6        1     1042     2.0\n",
       "7        1     1048     2.0\n",
       "8        1     1084     3.5\n",
       "9        1     1088     2.0\n",
       "10       1     1112     2.5\n",
       "11       1     1141     1.0\n",
       "12       1     1516     4.0\n",
       "13       1     1666     4.0\n",
       "14       1     1709     3.0\n",
       "15       1     1744     2.0\n",
       "16       1     1816     2.0\n",
       "17       1     1963     2.5\n",
       "18       1     2381     1.0\n",
       "19       1     2926     3.0"
      ]
     },
     "execution_count": 755,
     "metadata": {},
     "output_type": "execute_result"
    }
   ],
   "source": [
    "ratings.head(20)"
   ]
  },
  {
   "cell_type": "code",
   "execution_count": 756,
   "metadata": {},
   "outputs": [
    {
     "data": {
      "text/plain": [
       "array([0.41360551, 0.57787917, 0.55001896, 0.49530804, 0.38735914,\n",
       "       0.60481244, 0.53832553, 0.51358016, 0.31017364, 0.51025099])"
      ]
     },
     "execution_count": 756,
     "metadata": {},
     "output_type": "execute_result"
    }
   ],
   "source": [
    "mean_U[0]"
   ]
  },
  {
   "cell_type": "code",
   "execution_count": 757,
   "metadata": {},
   "outputs": [
    {
     "data": {
      "text/plain": [
       "array([ 0.73173986, -0.2401908 ,  0.39285737,  0.22228345,  0.02319101,\n",
       "        0.1728647 , -0.05100056,  0.46161911, -0.74513961, -0.88751965])"
      ]
     },
     "execution_count": 757,
     "metadata": {},
     "output_type": "execute_result"
    }
   ],
   "source": [
    "mu_u[0]"
   ]
  },
  {
   "cell_type": "code",
   "execution_count": 758,
   "metadata": {},
   "outputs": [
    {
     "data": {
      "text/plain": [
       "array([[ 0.1292905 , -0.00376168, -0.01445312,  0.003301  ,  0.01515981,\n",
       "         0.03854528, -0.04663019, -0.04932194,  0.00402183, -0.05432506],\n",
       "       [-0.00376168,  0.01988001, -0.01128948, -0.00989443,  0.00475098,\n",
       "        -0.00714948,  0.02405011, -0.00804302,  0.010453  , -0.00861924],\n",
       "       [-0.01445312, -0.01128948,  0.09481114, -0.0331151 , -0.07008793,\n",
       "         0.02782985, -0.018002  ,  0.02089072,  0.00785609,  0.01396839],\n",
       "       [ 0.003301  , -0.00989443, -0.0331151 ,  0.04222118,  0.01164023,\n",
       "        -0.00021192, -0.01130019, -0.00596664, -0.00991022,  0.01286585],\n",
       "       [ 0.01515981,  0.00475098, -0.07008793,  0.01164023,  0.08731077,\n",
       "        -0.02586813, -0.01894594, -0.00025543, -0.0078015 , -0.01557726],\n",
       "       [ 0.03854528, -0.00714948,  0.02782985, -0.00021192, -0.02586813,\n",
       "         0.0431385 , -0.02572308, -0.01022886, -0.0024394 , -0.0130256 ],\n",
       "       [-0.04663019,  0.02405011, -0.018002  , -0.01130019, -0.01894594,\n",
       "        -0.02572308,  0.12416861, -0.0544368 , -0.00240007,  0.02461214],\n",
       "       [-0.04932194, -0.00804302,  0.02089072, -0.00596664, -0.00025543,\n",
       "        -0.01022886, -0.0544368 ,  0.09749794,  0.02123739, -0.01388232],\n",
       "       [ 0.00402183,  0.010453  ,  0.00785609, -0.00991022, -0.0078015 ,\n",
       "        -0.0024394 , -0.00240007,  0.02123739,  0.03678812, -0.03093564],\n",
       "       [-0.05432506, -0.00861924,  0.01396839,  0.01286585, -0.01557726,\n",
       "        -0.0130256 ,  0.02461214, -0.01388232, -0.03093564,  0.07156555]])"
      ]
     },
     "execution_count": 758,
     "metadata": {},
     "output_type": "execute_result"
    }
   ],
   "source": [
    "Sigma_Ui[0]"
   ]
  },
  {
   "cell_type": "code",
   "execution_count": 759,
   "metadata": {},
   "outputs": [
    {
     "data": {
      "text/plain": [
       "1.8569431024423266"
      ]
     },
     "execution_count": 759,
     "metadata": {},
     "output_type": "execute_result"
    }
   ],
   "source": [
    "lambda_ui[0]"
   ]
  },
  {
   "cell_type": "code",
   "execution_count": 760,
   "metadata": {},
   "outputs": [
    {
     "data": {
      "text/plain": [
       "array([ 0.84321633, -0.36318297,  0.82101661,  0.2170112 , -0.43620285,\n",
       "        0.31039505, -0.35107132,  0.70800541, -0.69919334, -0.92932654])"
      ]
     },
     "execution_count": 760,
     "metadata": {},
     "output_type": "execute_result"
    }
   ],
   "source": [
    "np.random.multivariate_normal(mu_u[0],Sigma_Ui[0])"
   ]
  },
  {
   "cell_type": "code",
   "execution_count": null,
   "metadata": {},
   "outputs": [],
   "source": []
  }
 ],
 "metadata": {
  "kernelspec": {
   "display_name": "Python 3",
   "language": "python",
   "name": "python3"
  },
  "language_info": {
   "codemirror_mode": {
    "name": "ipython",
    "version": 3
   },
   "file_extension": ".py",
   "mimetype": "text/x-python",
   "name": "python",
   "nbconvert_exporter": "python",
   "pygments_lexer": "ipython3",
   "version": "3.7.3"
  }
 },
 "nbformat": 4,
 "nbformat_minor": 2
}
